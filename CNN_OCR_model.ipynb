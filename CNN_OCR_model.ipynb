{
 "cells": [
  {
   "cell_type": "markdown",
   "metadata": {},
   "source": [
    "# Creating a CNN for Persian Character Recognition"
   ]
  },
  {
   "cell_type": "markdown",
   "metadata": {},
   "source": [
    "## Importing necessary libraries"
   ]
  },
  {
   "cell_type": "code",
   "execution_count": 8,
   "metadata": {},
   "outputs": [],
   "source": [
    "import tensorflow \n",
    "from tensorflow import keras\n",
    "from tensorflow.keras.preprocessing.image import ImageDataGenerator"
   ]
  },
  {
   "cell_type": "markdown",
   "metadata": {},
   "source": [
    "## Creating the data generator"
   ]
  },
  {
   "cell_type": "code",
   "execution_count": 9,
   "metadata": {},
   "outputs": [
    {
     "name": "stdout",
     "output_type": "stream",
     "text": [
      "Found 58678 images belonging to 28 classes.\n",
      "Found 16768 images belonging to 28 classes.\n"
     ]
    }
   ],
   "source": [
    "TRAINING_DIR = 'path\\to\\ocr_train'\n",
    "training_datagen = ImageDataGenerator(\n",
    "      rescale = 1./255,\n",
    "      rotation_range=10,\n",
    "      horizontal_flip=True,\n",
    "      fill_mode='nearest')\n",
    "\n",
    "VALIDATION_DIR = 'path\\to\\ocr_valid'\n",
    "validation_datagen = ImageDataGenerator(rescale = 1./255)\n",
    "\n",
    "train_generator = training_datagen.flow_from_directory(\n",
    "    TRAINING_DIR,\n",
    "    target_size=(32,32),\n",
    "    class_mode='categorical',\n",
    "    batch_size=128\n",
    ")\n",
    "\n",
    "validation_generator = validation_datagen.flow_from_directory(\n",
    "    VALIDATION_DIR,\n",
    "    target_size=(32,32),\n",
    "    class_mode='categorical',\n",
    "    batch_size=128\n",
    ")"
   ]
  },
  {
   "cell_type": "markdown",
   "metadata": {},
   "source": [
    "## Creating a simple 2-layer CNN as the backbone of OCR"
   ]
  },
  {
   "cell_type": "code",
   "execution_count": 11,
   "metadata": {},
   "outputs": [
    {
     "name": "stdout",
     "output_type": "stream",
     "text": [
      "_________________________________________________________________\n",
      "Layer (type)                 Output Shape              Param #   \n",
      "=================================================================\n",
      "conv2d_4 (Conv2D)            (None, 30, 30, 8)         224       \n",
      "_________________________________________________________________\n",
      "max_pooling2d_4 (MaxPooling2 (None, 15, 15, 8)         0         \n",
      "_________________________________________________________________\n",
      "conv2d_5 (Conv2D)            (None, 13, 13, 16)        1168      \n",
      "_________________________________________________________________\n",
      "max_pooling2d_5 (MaxPooling2 (None, 6, 6, 16)          0         \n",
      "_________________________________________________________________\n",
      "flatten_2 (Flatten)          (None, 576)               0         \n",
      "_________________________________________________________________\n",
      "dense_4 (Dense)              (None, 32)                18464     \n",
      "_________________________________________________________________\n",
      "dense_5 (Dense)              (None, 28)                924       \n",
      "=================================================================\n",
      "Total params: 20,780\n",
      "Trainable params: 20,780\n",
      "Non-trainable params: 0\n",
      "_________________________________________________________________\n"
     ]
    }
   ],
   "source": [
    "model = tf.keras.models.Sequential([\n",
    "    # This is the first convolution\n",
    "    tf.keras.layers.Conv2D(8, (3,3), activation='relu', input_shape=(32, 32, 3)),\n",
    "    tf.keras.layers.MaxPooling2D(2, 2),\n",
    "    # The second convolution\n",
    "    tf.keras.layers.Conv2D(16, (3,3), activation='relu'),\n",
    "    tf.keras.layers.MaxPooling2D(2,2),\n",
    "    # Flatten the results to feed into a DNN\n",
    "    tf.keras.layers.Flatten(),\n",
    "    # 32 neuron hidden layer\n",
    "    tf.keras.layers.Dense(32, activation='relu'),\n",
    "    tf.keras.layers.Dense(28, activation='softmax')\n",
    "])\n",
    "\n",
    "# Print the model summary\n",
    "model.summary()"
   ]
  },
  {
   "cell_type": "code",
   "execution_count": 14,
   "metadata": {},
   "outputs": [],
   "source": [
    "# Set the training parameters\n",
    "model.compile(loss = 'categorical_crossentropy', optimizer='Adam', metrics=['accuracy'])"
   ]
  },
  {
   "cell_type": "code",
   "execution_count": 15,
   "metadata": {},
   "outputs": [
    {
     "name": "stdout",
     "output_type": "stream",
     "text": [
      "Epoch 1/10\n",
      "131/131 [==============================] - 289s 2s/step - loss: 0.3594 - acc: 0.9185\n",
      "459/459 [==============================] - 1153s 3s/step - loss: 0.8708 - acc: 0.7646 - val_loss: 0.3594 - val_acc: 0.9185\n",
      "Epoch 2/10\n",
      "131/131 [==============================] - 11s 86ms/step - loss: 0.2861 - acc: 0.9391\n",
      "459/459 [==============================] - 95s 207ms/step - loss: 0.2145 - acc: 0.9406 - val_loss: 0.2861 - val_acc: 0.9391\n",
      "Epoch 3/10\n",
      "131/131 [==============================] - 11s 85ms/step - loss: 0.2439 - acc: 0.9515\n",
      "459/459 [==============================] - 97s 211ms/step - loss: 0.1526 - acc: 0.9595 - val_loss: 0.2439 - val_acc: 0.9515\n",
      "Epoch 4/10\n",
      "131/131 [==============================] - 13s 97ms/step - loss: 0.2158 - acc: 0.9550\n",
      "459/459 [==============================] - 93s 202ms/step - loss: 0.1247 - acc: 0.9664 - val_loss: 0.2158 - val_acc: 0.9550\n",
      "Epoch 5/10\n",
      "131/131 [==============================] - 12s 89ms/step - loss: 0.1894 - acc: 0.9603\n",
      "459/459 [==============================] - 95s 207ms/step - loss: 0.1059 - acc: 0.9719 - val_loss: 0.1894 - val_acc: 0.9603\n",
      "Epoch 6/10\n",
      "131/131 [==============================] - 12s 91ms/step - loss: 0.1708 - acc: 0.9620\n",
      "459/459 [==============================] - 95s 208ms/step - loss: 0.0904 - acc: 0.9770 - val_loss: 0.1708 - val_acc: 0.9620\n",
      "Epoch 7/10\n",
      "131/131 [==============================] - 12s 92ms/step - loss: 0.1614 - acc: 0.9645\n",
      "459/459 [==============================] - 97s 212ms/step - loss: 0.0829 - acc: 0.9782 - val_loss: 0.1614 - val_acc: 0.9645\n",
      "Epoch 8/10\n",
      "131/131 [==============================] - 12s 90ms/step - loss: 0.1547 - acc: 0.9617\n",
      "459/459 [==============================] - 99s 215ms/step - loss: 0.0743 - acc: 0.9802 - val_loss: 0.1547 - val_acc: 0.9617\n",
      "Epoch 9/10\n",
      "131/131 [==============================] - 12s 93ms/step - loss: 0.1365 - acc: 0.9677 5s - loss: 0.124\n",
      "459/459 [==============================] - 106s 231ms/step - loss: 0.0702 - acc: 0.9814 - val_loss: 0.1365 - val_acc: 0.9677\n",
      "Epoch 10/10\n",
      "131/131 [==============================] - 12s 92ms/step - loss: 0.1399 - acc: 0.9683\n",
      "459/459 [==============================] - 100s 217ms/step - loss: 0.0644 - acc: 0.9829 - val_loss: 0.1399 - val_acc: 0.9683\n"
     ]
    }
   ],
   "source": [
    "# Train the model\n",
    "history = model.fit(train_generator, epochs=10, validation_data = validation_generator, verbose = 1)"
   ]
  },
  {
   "cell_type": "markdown",
   "metadata": {},
   "source": [
    "## Plotting accuracy curve"
   ]
  },
  {
   "cell_type": "code",
   "execution_count": 17,
   "metadata": {},
   "outputs": [
    {
     "data": {
      "image/png": "[encoded data removed]",
      "text/plain": [
       "<Figure size 432x288 with 1 Axes>"
      ]
     },
     "metadata": {
      "needs_background": "light"
     },
     "output_type": "display_data"
    },
    {
     "data": {
      "text/plain": [
       "<Figure size 432x288 with 0 Axes>"
      ]
     },
     "metadata": {},
     "output_type": "display_data"
    }
   ],
   "source": [
    "import matplotlib.pyplot as plt\n",
    "\n",
    "# Plot the results\n",
    "acc = history.history['acc']\n",
    "val_acc = history.history['val_acc']\n",
    "loss = history.history['loss']\n",
    "val_loss = history.history['val_loss']\n",
    "\n",
    "epochs = range(len(acc))\n",
    "\n",
    "plt.plot(epochs, acc, 'r', label='Training accuracy')\n",
    "plt.plot(epochs, val_acc, 'b', label='Validation accuracy')\n",
    "plt.title('Training and validation accuracy')\n",
    "plt.legend(loc=0)\n",
    "plt.figure()\n",
    "\n",
    "plt.show()"
   ]
  },
  {
   "cell_type": "markdown",
   "metadata": {},
   "source": [
    "## Saving the model (architecture, weights) to use later"
   ]
  },
  {
   "cell_type": "code",
   "execution_count": 18,
   "metadata": {},
   "outputs": [],
   "source": [
    "from tensorflow.keras.models import load_model\n",
    "\n",
    "# Save the model to disk\n",
    "model.save('path\\to\\CNN_OCR.h5')\n"
   ]
  }
 ],
 "metadata": {
  "kernelspec": {
   "display_name": "Python 3",
   "language": "python",
   "name": "python3"
  },
  "language_info": {
   "codemirror_mode": {
    "name": "ipython",
    "version": 3
   },
   "file_extension": ".py",
   "mimetype": "text/x-python",
   "name": "python",
   "nbconvert_exporter": "python",
   "pygments_lexer": "ipython3",
   "version": "3.7.6"
  }
 },
 "nbformat": 4,
 "nbformat_minor": 4
}
